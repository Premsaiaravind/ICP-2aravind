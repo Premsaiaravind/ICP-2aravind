{
 "cells": [
  {
   "cell_type": "code",
   "execution_count": 1,
   "metadata": {
    "colab": {
     "base_uri": "https://localhost:8080/"
    },
    "id": "GzQylL-uGs1t",
    "outputId": "b87fd0c7-5e14-429e-cbee-d7aee2001691"
   },
   "outputs": [
    {
     "name": "stdout",
     "output_type": "stream",
     "text": [
      "prem sai aravind \n",
      "Bevanasankalla\n",
      "pe a rvn Bvnsnal\n"
     ]
    }
   ],
   "source": [
    "\n",
    "def FullName(fst, lst):\n",
    "    str = fst+\" \"+lst\n",
    "    return str\n",
    "def wordAlt (output):\n",
    "    substr = output[::2]\n",
    "    return substr\n",
    "\n",
    "fst =input()\n",
    "lst =input ()\n",
    "output  = FullName (fst,lst)\n",
    "alternate = wordAlt(output)\n",
    "print(alternate)"
   ]
  }
 ],
 "metadata": {
  "colab": {
   "provenance": []
  },
  "kernelspec": {
   "display_name": "Python 3 (ipykernel)",
   "language": "python",
   "name": "python3"
  },
  "language_info": {
   "codemirror_mode": {
    "name": "ipython",
    "version": 3
   },
   "file_extension": ".py",
   "mimetype": "text/x-python",
   "name": "python",
   "nbconvert_exporter": "python",
   "pygments_lexer": "ipython3",
   "version": "3.10.9"
  }
 },
 "nbformat": 4,
 "nbformat_minor": 1
}
