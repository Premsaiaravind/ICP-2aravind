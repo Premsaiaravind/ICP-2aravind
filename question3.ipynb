{
 "cells": [
  {
   "cell_type": "code",
   "execution_count": 1,
   "metadata": {
    "id": "4FhD6J-AJ1o6"
   },
   "outputs": [],
   "source": [
    "with open('C:/Users/aravind/Downloads/aravind.txt','r') as input_file:\n",
    "        a = dict()\n",
    "        for sentence in input_file:\n",
    "            sentence = sentence.strip()\n",
    "            sentence = sentence.lower()\n",
    "            words = sentence.split(\" \")\n",
    "            for word in words:\n",
    "                if word in a:\n",
    "                    a[word] = a[word] + 1\n",
    "                else:\n",
    "                    a[word] = 1\n",
    "        with open('C:/Users/aravind/Downloads/output.txt','w') as output_file:\n",
    "            for key in list(a.keys()):\n",
    "                print(key,\":\",a[key],file = output_file)"
   ]
  }
 ],
 "metadata": {
  "colab": {
   "provenance": []
  },
  "kernelspec": {
   "display_name": "Python 3 (ipykernel)",
   "language": "python",
   "name": "python3"
  },
  "language_info": {
   "codemirror_mode": {
    "name": "ipython",
    "version": 3
   },
   "file_extension": ".py",
   "mimetype": "text/x-python",
   "name": "python",
   "nbconvert_exporter": "python",
   "pygments_lexer": "ipython3",
   "version": "3.10.9"
  }
 },
 "nbformat": 4,
 "nbformat_minor": 1
}
