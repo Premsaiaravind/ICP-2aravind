{
 "cells": [
  {
   "cell_type": "code",
   "execution_count": 1,
   "metadata": {
    "colab": {
     "base_uri": "https://localhost:8080/"
    },
    "id": "ulMOp9MUIvxh",
    "outputId": "b3181ed1-22f8-4ba2-a436-c0db7a2736d2"
   },
   "outputs": [
    {
     "name": "stdout",
     "output_type": "stream",
     "text": [
      "No of hights4\n",
      "150\n",
      "155\n",
      "145\n",
      "148\n",
      "[68.05807622504537]\n",
      "[68.05807622504537, 70.32667876588022]\n",
      "[68.05807622504537, 70.32667876588022, 65.78947368421052]\n",
      "[68.05807622504537, 70.32667876588022, 65.78947368421052, 67.15063520871144]\n"
     ]
    }
   ],
   "source": [
    "p=[]\n",
    "y=[]\n",
    "x=int(input(\"No of hights\"  ))\n",
    "\n",
    "for i in range (x):\n",
    "  p.append(float(input()))\n",
    "for j in range(x):\n",
    "  y.append(p[j]/2.204)\n",
    "  print(y)\n"
   ]
  }
 ],
 "metadata": {
  "colab": {
   "provenance": []
  },
  "kernelspec": {
   "display_name": "Python 3 (ipykernel)",
   "language": "python",
   "name": "python3"
  },
  "language_info": {
   "codemirror_mode": {
    "name": "ipython",
    "version": 3
   },
   "file_extension": ".py",
   "mimetype": "text/x-python",
   "name": "python",
   "nbconvert_exporter": "python",
   "pygments_lexer": "ipython3",
   "version": "3.10.9"
  }
 },
 "nbformat": 4,
 "nbformat_minor": 1
}
